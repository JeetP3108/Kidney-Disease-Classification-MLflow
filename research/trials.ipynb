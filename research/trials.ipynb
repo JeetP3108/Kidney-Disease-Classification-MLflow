{
 "cells": [
  {
   "cell_type": "code",
   "execution_count": 2,
   "metadata": {},
   "outputs": [],
   "source": [
    "import gdown"
   ]
  },
  {
   "cell_type": "code",
   "execution_count": 3,
   "metadata": {},
   "outputs": [],
   "source": [
    "url = \"https://drive.google.com/file/d/1JfGoWzhbOJwLJgEs-bhXuIcjuz4F0-vE/view?usp=drive_link\""
   ]
  },
  {
   "cell_type": "code",
   "execution_count": 6,
   "metadata": {},
   "outputs": [],
   "source": [
    "file_id = url.split(\"/\")[-2]"
   ]
  },
  {
   "cell_type": "code",
   "execution_count": 7,
   "metadata": {},
   "outputs": [
    {
     "name": "stderr",
     "output_type": "stream",
     "text": [
      "Downloading...\n",
      "From (uriginal): https://drive.google.com/uc?/export=download&id=1JfGoWzhbOJwLJgEs-bhXuIcjuz4F0-vE\n",
      "From (redirected): https://drive.google.com/uc?/export=download&id=1JfGoWzhbOJwLJgEs-bhXuIcjuz4F0-vE&confirm=t&uuid=51e98ff9-3a42-4aff-b6a2-960a1c19854b\n",
      "To: d:\\Kidney-Disease-Classification-DeepLearning-Project-MlFlow\\research\\archive.zip\n",
      "100%|██████████| 1.63G/1.63G [00:48<00:00, 33.8MB/s]\n"
     ]
    },
    {
     "data": {
      "text/plain": [
       "'archive.zip'"
      ]
     },
     "execution_count": 7,
     "metadata": {},
     "output_type": "execute_result"
    }
   ],
   "source": [
    "prefix  = 'https://drive.google.com/uc?/export=download&id='\n",
    "gdown.download(prefix+file_id,\"archive.zip\")"
   ]
  },
  {
   "cell_type": "code",
   "execution_count": null,
   "metadata": {},
   "outputs": [],
   "source": []
  }
 ],
 "metadata": {
  "kernelspec": {
   "display_name": "kidney",
   "language": "python",
   "name": "python3"
  },
  "language_info": {
   "codemirror_mode": {
    "name": "ipython",
    "version": 3
   },
   "file_extension": ".py",
   "mimetype": "text/x-python",
   "name": "python",
   "nbconvert_exporter": "python",
   "pygments_lexer": "ipython3",
   "version": "3.8.18"
  }
 },
 "nbformat": 4,
 "nbformat_minor": 2
}
